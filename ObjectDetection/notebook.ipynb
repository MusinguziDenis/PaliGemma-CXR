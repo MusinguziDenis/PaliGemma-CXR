{
 "cells": [
  {
   "cell_type": "markdown",
   "metadata": {},
   "source": [
    "## Finetune PaliGemma for Object Detection "
   ]
  },
  {
   "cell_type": "markdown",
   "metadata": {},
   "source": [
    "#### CREATE PALIGEMMA STYLE DATASET"
   ]
  },
  {
   "cell_type": "code",
   "execution_count": 1,
   "metadata": {},
   "outputs": [],
   "source": [
    "from pg_datasets import coco_to_xyxy, show_random_elements, string2list, resize_bbox, coco_to_xyxy, convert_to_detection_string"
   ]
  },
  {
   "cell_type": "code",
   "execution_count": 2,
   "metadata": {},
   "outputs": [
    {
     "data": {
      "application/vnd.jupyter.widget-view+json": {
       "model_id": "a3b1fe397b1e44f896cac90b2afe20f6",
       "version_major": 2,
       "version_minor": 0
      },
      "text/plain": [
       "VBox(children=(HTML(value='<center> <img\\nsrc=https://huggingface.co/front/assets/huggingface_logo-noborder.sv…"
      ]
     },
     "metadata": {},
     "output_type": "display_data"
    }
   ],
   "source": [
    "from huggingface_hub import notebook_login\n",
    "\n",
    "notebook_login()"
   ]
  },
  {
   "cell_type": "code",
   "execution_count": 3,
   "metadata": {},
   "outputs": [],
   "source": [
    "from datasets import load_dataset\n",
    "\n",
    "xray_dataset = load_dataset('dmusingu/object-detection-chest-x-ray')"
   ]
  },
  {
   "cell_type": "code",
   "execution_count": 4,
   "metadata": {},
   "outputs": [],
   "source": [
    "train_dataset = xray_dataset['train']\n",
    "valid_dataset = xray_dataset['validation']\n",
    "test_dataset = xray_dataset['test']"
   ]
  },
  {
   "cell_type": "code",
   "execution_count": 5,
   "metadata": {},
   "outputs": [
    {
     "data": {
      "text/html": [
       "<table border=\"1\" class=\"dataframe\">\n",
       "  <thead>\n",
       "    <tr style=\"text-align: right;\">\n",
       "      <th></th>\n",
       "      <th>id</th>\n",
       "      <th>image_id</th>\n",
       "      <th>category_id</th>\n",
       "      <th>bbox</th>\n",
       "      <th>area</th>\n",
       "      <th>segmentation</th>\n",
       "      <th>iscrowd</th>\n",
       "      <th>license</th>\n",
       "      <th>height</th>\n",
       "      <th>width</th>\n",
       "    </tr>\n",
       "  </thead>\n",
       "  <tbody>\n",
       "    <tr>\n",
       "      <th>0</th>\n",
       "      <td>641</td>\n",
       "      <td>602</td>\n",
       "      <td>Necklace</td>\n",
       "      <td>[292, 1, 401, 122]</td>\n",
       "      <td>48922.0</td>\n",
       "      <td>[]</td>\n",
       "      <td>0</td>\n",
       "      <td>1</td>\n",
       "      <td>1024</td>\n",
       "      <td>1024</td>\n",
       "    </tr>\n",
       "    <tr>\n",
       "      <th>1</th>\n",
       "      <td>731</td>\n",
       "      <td>688</td>\n",
       "      <td>Vascular Port</td>\n",
       "      <td>[278, 280, 92.5, 115]</td>\n",
       "      <td>10637.5</td>\n",
       "      <td>[]</td>\n",
       "      <td>0</td>\n",
       "      <td>1</td>\n",
       "      <td>1024</td>\n",
       "      <td>1024</td>\n",
       "    </tr>\n",
       "  </tbody>\n",
       "</table>"
      ],
      "text/plain": [
       "<IPython.core.display.HTML object>"
      ]
     },
     "metadata": {},
     "output_type": "display_data"
    }
   ],
   "source": [
    "show_random_elements(train_dataset.remove_columns(['image']), num_examples=2)"
   ]
  },
  {
   "cell_type": "code",
   "execution_count": 6,
   "metadata": {},
   "outputs": [],
   "source": [
    "train_dataset = train_dataset.map(lambda x: {'bbox': string2list(x['bbox'])})\n",
    "valid_dataset = valid_dataset.map(lambda x: {'bbox': string2list(x['bbox'])})\n",
    "test_dataset = test_dataset.map(lambda x: {'bbox': string2list(x['bbox'])})"
   ]
  },
  {
   "cell_type": "code",
   "execution_count": 7,
   "metadata": {},
   "outputs": [],
   "source": [
    "train_dataset = train_dataset.map(resize_bbox)\n",
    "valid_dataset = valid_dataset.map(resize_bbox)\n",
    "test_dataset = test_dataset.map(resize_bbox)"
   ]
  },
  {
   "cell_type": "code",
   "execution_count": 8,
   "metadata": {},
   "outputs": [],
   "source": [
    "train_dataset = train_dataset.map(coco_to_xyxy)\n",
    "valid_dataset = valid_dataset.map(coco_to_xyxy)\n",
    "test_dataset = test_dataset.map(coco_to_xyxy)"
   ]
  },
  {
   "cell_type": "code",
   "execution_count": 9,
   "metadata": {},
   "outputs": [],
   "source": [
    "train_dataset = train_dataset.map(convert_to_detection_string)\n",
    "valid_dataset = valid_dataset.map(convert_to_detection_string)\n",
    "test_dataset = test_dataset.map(convert_to_detection_string)"
   ]
  },
  {
   "cell_type": "code",
   "execution_count": 10,
   "metadata": {},
   "outputs": [
    {
     "name": "stdout",
     "output_type": "stream",
     "text": [
      "Dataset({\n",
      "    features: ['image', 'id', 'image_id', 'category_id', 'bbox', 'area', 'segmentation', 'iscrowd', 'license', 'height', 'width', 'resized_bbox', 'xyxy', 'suffix'],\n",
      "    num_rows: 736\n",
      "})\n"
     ]
    }
   ],
   "source": [
    "print(train_dataset)"
   ]
  },
  {
   "cell_type": "code",
   "execution_count": 11,
   "metadata": {},
   "outputs": [
    {
     "data": {
      "text/plain": [
       "['Shoulder Endoprosthesis', 'Vascular Port', 'Necklace', 'ICD']"
      ]
     },
     "execution_count": 11,
     "metadata": {},
     "output_type": "execute_result"
    }
   ],
   "source": [
    "# create a paligemma prefix\n",
    "dataset_objects = list(set(train_dataset['category_id']))\n",
    "dataset_objects"
   ]
  },
  {
   "cell_type": "code",
   "execution_count": 12,
   "metadata": {},
   "outputs": [
    {
     "data": {
      "text/plain": [
       "'detect Shoulder Endoprosthesis; Vascular Port; Necklace; ICD'"
      ]
     },
     "execution_count": 12,
     "metadata": {},
     "output_type": "execute_result"
    }
   ],
   "source": [
    "prefix = 'detect ' + \"; \".join(dataset_objects)\n",
    "prefix"
   ]
  },
  {
   "cell_type": "code",
   "execution_count": 13,
   "metadata": {},
   "outputs": [],
   "source": [
    "train_prefix = [prefix] * len(train_dataset)\n",
    "valid_prefix = [prefix] * len(valid_dataset)\n",
    "test_prefix = [prefix] * len(test_dataset)"
   ]
  },
  {
   "cell_type": "code",
   "execution_count": 14,
   "metadata": {},
   "outputs": [],
   "source": [
    "train_dataset = train_dataset.add_column('prefix', train_prefix)\n",
    "valid_dataset = valid_dataset.add_column('prefix', valid_prefix)\n",
    "test_dataset = test_dataset.add_column('prefix', test_prefix)"
   ]
  },
  {
   "cell_type": "code",
   "execution_count": 15,
   "metadata": {},
   "outputs": [
    {
     "data": {
      "text/html": [
       "<table border=\"1\" class=\"dataframe\">\n",
       "  <thead>\n",
       "    <tr style=\"text-align: right;\">\n",
       "      <th></th>\n",
       "      <th>id</th>\n",
       "      <th>image_id</th>\n",
       "      <th>category_id</th>\n",
       "      <th>bbox</th>\n",
       "      <th>area</th>\n",
       "      <th>segmentation</th>\n",
       "      <th>iscrowd</th>\n",
       "      <th>license</th>\n",
       "      <th>height</th>\n",
       "      <th>width</th>\n",
       "      <th>resized_bbox</th>\n",
       "      <th>xyxy</th>\n",
       "      <th>suffix</th>\n",
       "      <th>prefix</th>\n",
       "    </tr>\n",
       "  </thead>\n",
       "  <tbody>\n",
       "    <tr>\n",
       "      <th>0</th>\n",
       "      <td>279</td>\n",
       "      <td>265</td>\n",
       "      <td>Vascular Port</td>\n",
       "      <td>[840.0, 555.0, 82.5, 112.5]</td>\n",
       "      <td>9281.25</td>\n",
       "      <td>[]</td>\n",
       "      <td>0</td>\n",
       "      <td>1</td>\n",
       "      <td>1024</td>\n",
       "      <td>1024</td>\n",
       "      <td>[183, 121, 18, 24]</td>\n",
       "      <td>[183, 121, 201, 145]</td>\n",
       "      <td>&lt;loc0121&gt;&lt;loc0183&gt;&lt;loc0145&gt;&lt;loc0201&gt; Vascular Port</td>\n",
       "      <td>detect Shoulder Endoprosthesis; Vascular Port; Necklace; ICD</td>\n",
       "    </tr>\n",
       "    <tr>\n",
       "      <th>1</th>\n",
       "      <td>462</td>\n",
       "      <td>437</td>\n",
       "      <td>Necklace</td>\n",
       "      <td>[333.0, 0.0, 347.5, 80.0]</td>\n",
       "      <td>27800.00</td>\n",
       "      <td>[]</td>\n",
       "      <td>0</td>\n",
       "      <td>1</td>\n",
       "      <td>1024</td>\n",
       "      <td>1024</td>\n",
       "      <td>[72, 0, 76, 17]</td>\n",
       "      <td>[72, 0, 148, 17]</td>\n",
       "      <td>&lt;loc0000&gt;&lt;loc0072&gt;&lt;loc0017&gt;&lt;loc0148&gt; Necklace</td>\n",
       "      <td>detect Shoulder Endoprosthesis; Vascular Port; Necklace; ICD</td>\n",
       "    </tr>\n",
       "  </tbody>\n",
       "</table>"
      ],
      "text/plain": [
       "<IPython.core.display.HTML object>"
      ]
     },
     "metadata": {},
     "output_type": "display_data"
    }
   ],
   "source": [
    "show_random_elements(train_dataset.remove_columns(['image']), num_examples=2)"
   ]
  },
  {
   "cell_type": "markdown",
   "metadata": {},
   "source": [
    "### Pytorch Dataset and DataLoader"
   ]
  },
  {
   "cell_type": "code",
   "execution_count": 16,
   "metadata": {},
   "outputs": [],
   "source": [
    "from pg_datasets import ObjectDetectionDataset\n",
    "from torch.utils.data import DataLoader"
   ]
  },
  {
   "cell_type": "code",
   "execution_count": 17,
   "metadata": {},
   "outputs": [],
   "source": [
    "pg_train_dataset = ObjectDetectionDataset(train_dataset)\n",
    "pg_valid_dataset = ObjectDetectionDataset(valid_dataset)\n",
    "pg_test_dataset = ObjectDetectionDataset(test_dataset)"
   ]
  },
  {
   "cell_type": "code",
   "execution_count": 20,
   "metadata": {},
   "outputs": [],
   "source": [
    "pg_train_dataloader = DataLoader(pg_train_dataset, batch_size=2, shuffle=True, collate_fn=pg_train_dataset.collate_fn)\n",
    "pg_valid_dataloader = DataLoader(pg_valid_dataset, batch_size=2, shuffle=False, collate_fn=pg_valid_dataset.collate_fn)\n",
    "pg_test_dataloader = DataLoader(pg_test_dataset, batch_size=2, shuffle=False, collate_fn=pg_test_dataset.collate_fn)"
   ]
  },
  {
   "cell_type": "code",
   "execution_count": null,
   "metadata": {},
   "outputs": [],
   "source": [
    "train_sample = next(iter(pg_train_dataloader))"
   ]
  },
  {
   "cell_type": "code",
   "execution_count": null,
   "metadata": {},
   "outputs": [],
   "source": []
  }
 ],
 "metadata": {
  "kernelspec": {
   "display_name": "vlms",
   "language": "python",
   "name": "python3"
  },
  "language_info": {
   "codemirror_mode": {
    "name": "ipython",
    "version": 3
   },
   "file_extension": ".py",
   "mimetype": "text/x-python",
   "name": "python",
   "nbconvert_exporter": "python",
   "pygments_lexer": "ipython3",
   "version": "3.12.0"
  }
 },
 "nbformat": 4,
 "nbformat_minor": 2
}
